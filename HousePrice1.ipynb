{
 "cells": [
  {
   "cell_type": "code",
   "execution_count": 10,
   "metadata": {},
   "outputs": [],
   "source": [
    "import pandas as pd\n",
    "import numpy as np\n",
    "from sklearn.ensemble import RandomForestRegressor\n",
    "from sklearn.ensemble import GradientBoostingRegressor\n",
    "from sklearn.model_selection import train_test_split\n",
    "from sklearn.metrics import mean_squared_log_error"
   ]
  },
  {
   "cell_type": "code",
   "execution_count": 2,
   "metadata": {},
   "outputs": [],
   "source": [
    "train_data = pd.read_csv('data/train_data.csv')"
   ]
  },
  {
   "cell_type": "code",
   "execution_count": 3,
   "metadata": {},
   "outputs": [],
   "source": [
    "for col , des in train_data.items():\n",
    "    if pd.api.types.is_numeric_dtype(des):\n",
    "        train_data[col] = des.fillna(des.median())\n",
    "    \n",
    "    if not pd.api.types.is_numeric_dtype(des):\n",
    "        train_data[col] = pd.Categorical(des).codes + 1"
   ]
  },
  {
   "cell_type": "code",
   "execution_count": 4,
   "metadata": {},
   "outputs": [],
   "source": [
    "model_reg = RandomForestRegressor()\n",
    "X = train_data.drop('SalePrice',axis=1)\n",
    "y = train_data['SalePrice']"
   ]
  },
  {
   "cell_type": "code",
   "execution_count": 6,
   "metadata": {},
   "outputs": [],
   "source": [
    "X_train , X_test,y_train,y_test = train_test_split(X,y,test_size=0.2)"
   ]
  },
  {
   "cell_type": "code",
   "execution_count": 7,
   "metadata": {},
   "outputs": [
    {
     "data": {
      "text/plain": [
       "RandomForestRegressor(bootstrap=True, ccp_alpha=0.0, criterion='mse',\n",
       "                      max_depth=None, max_features='auto', max_leaf_nodes=None,\n",
       "                      max_samples=None, min_impurity_decrease=0.0,\n",
       "                      min_impurity_split=None, min_samples_leaf=1,\n",
       "                      min_samples_split=2, min_weight_fraction_leaf=0.0,\n",
       "                      n_estimators=100, n_jobs=None, oob_score=False,\n",
       "                      random_state=None, verbose=0, warm_start=False)"
      ]
     },
     "execution_count": 7,
     "metadata": {},
     "output_type": "execute_result"
    }
   ],
   "source": [
    "model_reg.fit(X_train,y_train)"
   ]
  },
  {
   "cell_type": "code",
   "execution_count": 12,
   "metadata": {},
   "outputs": [],
   "source": [
    "y_preds_reg = model_reg.predict(X_test)"
   ]
  },
  {
   "cell_type": "code",
   "execution_count": 13,
   "metadata": {},
   "outputs": [
    {
     "data": {
      "text/plain": [
       "0.14211122527967426"
      ]
     },
     "execution_count": 13,
     "metadata": {},
     "output_type": "execute_result"
    }
   ],
   "source": [
    "np.sqrt(mean_squared_log_error(y_test,y_preds_reg))"
   ]
  },
  {
   "cell_type": "code",
   "execution_count": 14,
   "metadata": {},
   "outputs": [
    {
     "data": {
      "text/plain": [
       "GradientBoostingRegressor(alpha=0.9, ccp_alpha=0.0, criterion='friedman_mse',\n",
       "                          init=None, learning_rate=0.1, loss='ls', max_depth=3,\n",
       "                          max_features=None, max_leaf_nodes=None,\n",
       "                          min_impurity_decrease=0.0, min_impurity_split=None,\n",
       "                          min_samples_leaf=1, min_samples_split=2,\n",
       "                          min_weight_fraction_leaf=0.0, n_estimators=100,\n",
       "                          n_iter_no_change=None, presort='deprecated',\n",
       "                          random_state=None, subsample=1.0, tol=0.0001,\n",
       "                          validation_fraction=0.1, verbose=0, warm_start=False)"
      ]
     },
     "execution_count": 14,
     "metadata": {},
     "output_type": "execute_result"
    }
   ],
   "source": [
    "model_gre = GradientBoostingRegressor()\n",
    "model_gre.fit(X_train,y_train)"
   ]
  },
  {
   "cell_type": "code",
   "execution_count": 17,
   "metadata": {},
   "outputs": [],
   "source": [
    "y_preds_gre = model_gre.predict(X_test)"
   ]
  },
  {
   "cell_type": "code",
   "execution_count": 18,
   "metadata": {},
   "outputs": [
    {
     "data": {
      "text/plain": [
       "0.13030973501782453"
      ]
     },
     "execution_count": 18,
     "metadata": {},
     "output_type": "execute_result"
    }
   ],
   "source": [
    "np.sqrt(mean_squared_log_error(y_test,y_preds_gre))"
   ]
  },
  {
   "cell_type": "code",
   "execution_count": 19,
   "metadata": {},
   "outputs": [
    {
     "data": {
      "text/plain": [
       "array([233880.0745007 , 148639.0397839 , 194233.23780718, 208004.45573743,\n",
       "       164234.67138232, 140034.61228205, 163982.36685154, 258586.26290536,\n",
       "       163016.40649244, 214778.87266772, 149024.01269912, 161150.56082196,\n",
       "       254658.6278912 , 103575.74421325, 143334.11836158, 127111.33463083,\n",
       "       150471.54358543, 122654.02439395, 112967.04194177, 131730.08808099,\n",
       "        83188.63502523, 268433.77150625, 113775.78771216, 194252.46651714,\n",
       "       159645.36862146, 427511.78778506, 198830.77657765, 193716.98039806,\n",
       "       158263.22276367, 131201.60645429, 188082.96526919, 184970.17177887,\n",
       "       117920.91517886, 194631.90257313, 210311.02816049, 198523.3913111 ,\n",
       "       122029.67947905, 364925.89197971, 209922.98158632, 135799.48305092,\n",
       "       125551.28898394, 319693.70003358, 137531.75285218, 310835.89003202,\n",
       "       124668.00818955, 220159.77277731,  92795.93743211, 198319.44130804,\n",
       "        88478.20129919,  88878.77668271, 173814.76000986, 207200.60344998,\n",
       "       215409.06423311, 283793.83850831, 285730.06090969, 150577.3885981 ,\n",
       "       271017.96228278, 193348.56092161, 176433.63977968, 107511.47927189,\n",
       "       153425.17008194, 165573.18756489, 250148.05056141, 396556.59367012,\n",
       "       200580.00591071, 325305.40871151, 297728.0242048 , 124630.63366088,\n",
       "       268093.09222843, 172237.71596331, 161479.03909655,  68178.65535339,\n",
       "       358209.7121689 , 122907.08201327, 192571.37364364, 164279.98242329,\n",
       "       163025.0610598 , 137392.62560386, 361354.68940996, 245559.78905897,\n",
       "       141471.65641938, 225049.93542867, 130028.36838105,  84515.51983531,\n",
       "       134290.83044769, 140284.39771606, 138799.33026773, 141179.80156531,\n",
       "       230730.42385391, 148078.65290628, 225297.76644304, 194711.78707167,\n",
       "       341950.87581693, 119854.59352577, 140709.57177886, 101116.16777514,\n",
       "       103884.46667943, 192581.3847957 , 103105.34011842, 181836.09182826,\n",
       "       238019.19280925, 110683.89302213, 178784.45598518, 153011.28157502,\n",
       "       165699.8286877 , 196164.11611288, 119375.58855605, 125700.69985236,\n",
       "       310616.06545052, 125145.54795326, 125267.7943768 , 246752.07574588,\n",
       "       161432.16482528,  76962.33621478, 164733.11376346, 192124.30906875,\n",
       "       140352.3515685 , 177588.03930825, 208192.75533322,  74105.85323468,\n",
       "       118315.60418841, 156604.7239384 , 336219.15037822, 138516.01206401,\n",
       "       238418.94503389, 206951.06171242, 217930.80924801, 189288.7068901 ,\n",
       "       171008.72722597, 212134.71053301, 221678.90059664, 241110.61026344,\n",
       "       179538.91857556, 140996.2718761 , 152580.81227217, 149735.06827359,\n",
       "       156845.83015853, 144993.71160989, 250476.57707942, 152871.9656541 ,\n",
       "       182290.29512984, 165332.60036436, 180104.86896622, 196826.89375458,\n",
       "       238086.64582172,  98161.12962438, 141287.43590925, 227482.68185715,\n",
       "       148347.85018421, 112615.11755279, 227519.74705892, 250194.74078433,\n",
       "       175926.90109004, 139335.80154098, 124345.67029928, 262573.46649922,\n",
       "       141293.74726455, 250401.80382781, 147951.49975024, 118309.41257494,\n",
       "       263304.71902609, 143068.19866465,  87707.20518825, 199898.7970126 ,\n",
       "       122563.15858752, 133860.28162725, 128200.66387312, 143630.73025114,\n",
       "       192014.42797682, 137822.57830844, 156945.7714996 , 209764.32316253,\n",
       "       279201.58254493, 155193.58170637, 204461.49686225, 152995.76047016,\n",
       "       134914.31553392, 129055.50763123, 234989.42266956, 133196.37760188,\n",
       "       137981.53220321, 150870.13383785, 257004.03410132, 210479.10179319,\n",
       "       137561.56893933, 255043.4038266 , 177939.94896577, 119196.32645009,\n",
       "       109002.18954441, 173813.98662894,  92719.73923295, 132363.18306195,\n",
       "       185304.77362477, 102255.12819342, 158985.1771181 , 178963.87770959,\n",
       "       100196.03640721, 151997.0363284 , 158869.06143385, 298473.67916623,\n",
       "       177281.98919873, 118477.69695027, 418018.882442  , 217369.34667898,\n",
       "       202496.60657802, 218411.54660828, 166216.81665975, 117675.21845737,\n",
       "       284140.16541356, 147939.11130336, 154538.82560026, 125456.07409287,\n",
       "       239775.63642566, 164234.44245745, 115976.60876729, 237535.72622141,\n",
       "       224315.6016554 , 122079.58866948,  55363.97369983, 112557.82771251,\n",
       "       310506.80011936, 162884.45158941, 206734.8115115 , 144954.5043725 ,\n",
       "       127383.47920712, 189376.66869664, 174027.59959628, 120046.55810371,\n",
       "       109103.13775143,  99639.66852991, 124536.11888744, 207409.27827643,\n",
       "       139015.76549264, 133232.00177247, 207190.29011225, 187193.76801731,\n",
       "       184823.45146661, 113709.08367981, 248627.99802343, 165124.44607824,\n",
       "       233237.23388117, 174855.63664782, 131859.34074804, 154984.99351022,\n",
       "       282286.728343  , 128857.72683678, 167903.83244133, 167169.51571837,\n",
       "       257338.02446965, 140331.42769674, 135817.77599872, 259769.04851029,\n",
       "       120201.09171901, 167404.2520792 , 348463.29869017, 123274.33437941,\n",
       "       117875.15023666, 439637.98530092, 253711.89418065, 138536.27296715,\n",
       "       197019.28132366, 163971.28627895, 302028.41936924, 118901.55637686,\n",
       "       106014.01521544, 144319.25515357, 297597.64904806, 131338.03391877,\n",
       "       252147.70151653, 196379.25409599, 178037.63509276, 148369.22207577,\n",
       "       255661.1688685 , 125677.98898804, 164415.69525658, 121846.42979576,\n",
       "       195416.34880015, 165508.08259272, 260645.85085196, 138926.36289291,\n",
       "       187230.88354712, 165903.19327983, 442779.93785425, 140763.18811538,\n",
       "       548636.36589296, 281785.16975102, 168732.89476561, 144676.13982834,\n",
       "        99014.20623187, 145439.11014937, 123284.47024629, 161225.89040086])"
      ]
     },
     "execution_count": 19,
     "metadata": {},
     "output_type": "execute_result"
    }
   ],
   "source": [
    "y_preds_gre"
   ]
  },
  {
   "cell_type": "code",
   "execution_count": 20,
   "metadata": {},
   "outputs": [],
   "source": [
    "test_data = pd.read_csv('data/test_data.csv')"
   ]
  },
  {
   "cell_type": "code",
   "execution_count": 25,
   "metadata": {},
   "outputs": [],
   "source": [
    "for col , des in test_data.items():\n",
    "    if pd.api.types.is_numeric_dtype(des):\n",
    "        test_data[col] = des.fillna(des.median())\n",
    "    if not pd.api.types.is_numeric_dtype(des):\n",
    "        test_data[col] = pd.Categorical(des).codes + 1"
   ]
  },
  {
   "cell_type": "code",
   "execution_count": 26,
   "metadata": {},
   "outputs": [],
   "source": [
    "test_pred = model_gre.predict(test_data)"
   ]
  },
  {
   "cell_type": "code",
   "execution_count": 28,
   "metadata": {},
   "outputs": [],
   "source": [
    "submission = pd.DataFrame()"
   ]
  },
  {
   "cell_type": "code",
   "execution_count": 29,
   "metadata": {},
   "outputs": [],
   "source": [
    "submission['Id'] = test_data['Id']\n",
    "submission['SalePrice'] = test_pred"
   ]
  },
  {
   "cell_type": "code",
   "execution_count": 31,
   "metadata": {},
   "outputs": [],
   "source": [
    "submission.to_csv('House Price submission.csv',index=False)"
   ]
  },
  {
   "cell_type": "code",
   "execution_count": null,
   "metadata": {},
   "outputs": [],
   "source": []
  }
 ],
 "metadata": {
  "kernelspec": {
   "display_name": "Python 3",
   "language": "python",
   "name": "python3"
  },
  "language_info": {
   "codemirror_mode": {
    "name": "ipython",
    "version": 3
   },
   "file_extension": ".py",
   "mimetype": "text/x-python",
   "name": "python",
   "nbconvert_exporter": "python",
   "pygments_lexer": "ipython3",
   "version": "3.8.2"
  }
 },
 "nbformat": 4,
 "nbformat_minor": 4
}
